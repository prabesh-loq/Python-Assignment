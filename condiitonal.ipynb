{
 "cells": [
  {
   "cell_type": "markdown",
   "metadata": {},
   "source": [
    "# Write a program that asks the user to enter a number and checks whether the number is even or odd. "
   ]
  },
  {
   "cell_type": "code",
   "execution_count": 1,
   "metadata": {},
   "outputs": [
    {
     "name": "stdout",
     "output_type": "stream",
     "text": [
      "1 is an odd number\n"
     ]
    }
   ],
   "source": [
    "\n",
    "num = int(input('Enter a number:'))\n",
    "if num % 2 == 0:\n",
    "    print(f'{num} is an even  number')\n",
    "else:\n",
    "    print(f'{num} is an odd number')\n",
    " "
   ]
  },
  {
   "cell_type": "markdown",
   "metadata": {},
   "source": [
    "Write a program that asks the user to enter a number and checks whether it is positive, negative, or zero."
   ]
  },
  {
   "cell_type": "code",
   "execution_count": 2,
   "metadata": {},
   "outputs": [
    {
     "name": "stdout",
     "output_type": "stream",
     "text": [
      "The number  is positive\n"
     ]
    }
   ],
   "source": [
    "num = int(input('enter a number:'))\n",
    "if num > 0:\n",
    "    print('The number  is positive')\n",
    "elif num < 0:\n",
    "    print('The number is negative')\n",
    "else:\n",
    "    print('The number is zero')\n"
   ]
  },
  {
   "cell_type": "markdown",
   "metadata": {},
   "source": [
    "Write a program that asks the user to enter their age and checks if they are eligible to vote (18 years or older)"
   ]
  },
  {
   "cell_type": "code",
   "execution_count": 3,
   "metadata": {},
   "outputs": [
    {
     "name": "stdout",
     "output_type": "stream",
     "text": [
      "The person is not eligible to vote\n"
     ]
    }
   ],
   "source": [
    "age = int(input('Enter your age:'))\n",
    "if age < 18:\n",
    "    print('The person is not eligible to vote')\n",
    "elif age > 18: \n",
    "    print('The person is  eligible to vote')"
   ]
  },
  {
   "cell_type": "markdown",
   "metadata": {},
   "source": [
    "Write a program that takes the lengths of three sides of a triangle as input and determines if the triangle is: \n",
    "#○ Equilateral (all sides are equal) \n",
    "#○ Isosceles (two sides are equal) \n",
    "#○ Scalene (all sides are different) "
   ]
  },
  {
   "cell_type": "code",
   "execution_count": 4,
   "metadata": {},
   "outputs": [
    {
     "name": "stdout",
     "output_type": "stream",
     "text": [
      "Two sides are equal\n"
     ]
    }
   ],
   "source": [
    "num1 = float(input('enter a first side:'))\n",
    "num2 = float(input('enter a  second side:'))\n",
    "num3 = float(input('enter a third side:'))\n",
    "if num1 == num2 == num3:\n",
    "    print('The triangle is equilateral')\n",
    "if num1 == num2 or num2==num3 or num3==num1:\n",
    "    print('Two sides are equal')\n",
    "elif num1 != num2 != num3:\n",
    "    print('All sides are different')"
   ]
  },
  {
   "cell_type": "markdown",
   "metadata": {},
   "source": [
    "Write a program that asks the user to enter a password and checks if it matches a predefined password (e.g., \"Python123\"). \n"
   ]
  },
  {
   "cell_type": "code",
   "execution_count": 6,
   "metadata": {},
   "outputs": [
    {
     "name": "stdout",
     "output_type": "stream",
     "text": [
      "Password matched, Access granted!\n"
     ]
    }
   ],
   "source": [
    "predefined_password = 'Praaxqzit'\n",
    "entered_password = input('Enter a password')\n",
    "if entered_password == predefined_password:\n",
    "    print('Password matched, Access granted!')\n",
    "else:\n",
    "    print('Password doesnt match, Access denied')\n",
    "\n"
   ]
  }
 ],
 "metadata": {
  "kernelspec": {
   "display_name": "Python 3",
   "language": "python",
   "name": "python3"
  },
  "language_info": {
   "codemirror_mode": {
    "name": "ipython",
    "version": 3
   },
   "file_extension": ".py",
   "mimetype": "text/x-python",
   "name": "python",
   "nbconvert_exporter": "python",
   "pygments_lexer": "ipython3",
   "version": "3.13.0"
  }
 },
 "nbformat": 4,
 "nbformat_minor": 2
}
