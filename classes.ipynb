{
 "cells": [
  {
   "cell_type": "markdown",
   "metadata": {},
   "source": [
    "1. Rectangle Class:Define a class Rectangle with: \n",
    "○ Two attributes: length and width. \n",
    "○ A method area() to calculate the area. \n",
    "○ A method perimeter() to calculate the perimeter. \n"
   ]
  },
  {
   "cell_type": "code",
   "execution_count": 1,
   "metadata": {},
   "outputs": [
    {
     "name": "stdout",
     "output_type": "stream",
     "text": [
      "Area of the rectangle: 15\n",
      "Perimeter of the rectangle: 16\n"
     ]
    }
   ],
   "source": [
    "class Rectangle:\n",
    "    def __init__(self, length, width):\n",
    "        self.length = length\n",
    "        self.width = width\n",
    "\n",
    "    def area(self):\n",
    "        # Method to calculate the area of the rectangle\n",
    "        return self.length * self.width\n",
    "\n",
    "    def perimeter(self):\n",
    "        # Method to calculate the perimeter of the rectangle\n",
    "        return 2 * (self.length + self.width)\n",
    "rect = Rectangle(5, 3)\n",
    "\n",
    "# Calculate and print the area and perimeter\n",
    "print(f\"Area of the rectangle: {rect.area()}\")          # Output: 15\n",
    "print(f\"Perimeter of the rectangle: {rect.perimeter()}\")  # Output: 16\n"
   ]
  },
  {
   "cell_type": "markdown",
   "metadata": {},
   "source": [
    "Student Class: Create a class Student with: \n",
    "○ Attributes: name, roll_number, and marks. \n",
    "○ A method display_details() to print the student's details. ○ A method is_passed() that returns True if marks ≥ 40, else False. \n"
   ]
  },
  {
   "cell_type": "code",
   "execution_count": 2,
   "metadata": {},
   "outputs": [
    {
     "name": "stdout",
     "output_type": "stream",
     "text": [
      "Name: Alice\n",
      "Roll Number: 101\n",
      "Marks: 45\n",
      "Status: Passed\n"
     ]
    }
   ],
   "source": [
    "class Student:\n",
    "    def __init__(self, name, roll_number, marks):\n",
    "        self.name = name\n",
    "        self.roll_number = roll_number\n",
    "        self.marks = marks\n",
    "\n",
    "    def display_details(self):\n",
    "        print(f\"Name: {self.name}\")\n",
    "        print(f\"Roll Number: {self.roll_number}\")\n",
    "        print(f\"Marks: {self.marks}\")\n",
    "\n",
    "    def is_passed(self):\n",
    "        if self.marks >= 40:\n",
    "            return True\n",
    "        else:\n",
    "            return False\n",
    "# Create a Student object\n",
    "student1 = Student(\"Alice\", 101, 45)\n",
    "\n",
    "# Display student details\n",
    "student1.display_details()\n",
    "\n",
    "# Check if the student has passed\n",
    "if student1.is_passed():\n",
    "    print(\"Status: Passed\")\n",
    "else:\n",
    "    print(\"Status: Failed\")\n"
   ]
  },
  {
   "cell_type": "markdown",
   "metadata": {},
   "source": [
    "Define a class Circle with: \n",
    "● Attribute: radius. \n",
    "● Methods: area() to calculate the area, circumference() to calculate the circumference. "
   ]
  },
  {
   "cell_type": "code",
   "execution_count": null,
   "metadata": {},
   "outputs": [],
   "source": [
    "import math\n",
    "\n",
    "class Circle:\n",
    "    def __init__(self, radius):\n",
    "        self.radius = radius\n",
    "\n",
    "    def area(self):\n",
    "        # Method to calculate the area of the circle\n",
    "        return math.pi * self.radius ** 2\n",
    "\n",
    "    def circumference(self):\n",
    "        # Method to calculate the circumference of the circle\n",
    "        return 2 * math.pi * self.radius\n",
    "circle = Circle(5)\n",
    "# Calculate and print the area and circumference\n",
    "print(f\"Area of the circle: {circle.area():.2f}\")          \n",
    "print(f\"Circumference of the circle: {circle.circumference():.2f}\") \n"
   ]
  },
  {
   "cell_type": "markdown",
   "metadata": {},
   "source": [
    "Create a class BankAccount with: \n",
    "● Attributes: account_number, account_holder, balance. ● Methods: \n",
    "○ deposit(amount) to add money to the account.\n",
    "○ withdraw(amount) to subtract money (if sufficient \n",
    "balance is available). \n",
    "○ display_balance() to print the current balance. \n"
   ]
  },
  {
   "cell_type": "code",
   "execution_count": 4,
   "metadata": {},
   "outputs": [
    {
     "name": "stdout",
     "output_type": "stream",
     "text": [
      "Current balance: $500\n",
      "Deposited $200. New balance: $700\n",
      "Withdrew $100. New balance: $600\n",
      "Current balance: $600\n",
      "Insufficient balance.\n"
     ]
    }
   ],
   "source": [
    "import math\n",
    "\n",
    "class bankaccount:\n",
    "    def __init__(self,account_number,account_holder,balance=0):\n",
    "        self.account_number = account_number\n",
    "        self.account_holder = account_holder\n",
    "        self.balance = balance\n",
    "    def deposit(self,amount):\n",
    "        if amount>0:\n",
    "            self.balance += amount\n",
    "            print(f\"Deposited ${amount}. New balance: ${self.balance}\")\n",
    "        else:\n",
    "             print(\"Deposit amount must be greater than zero.\")\n",
    "    def withdraw(self,amount):\n",
    "        if amount > 0:\n",
    "            if self.balance >= amount:\n",
    "                self.balance -= amount\n",
    "                print(f\"Withdrew ${amount}. New balance: ${self.balance}\")\n",
    "            else:\n",
    "                print(\"Insufficient balance.\")\n",
    "        else:\n",
    "            print(\"Withdrawal amount must be greater than zero.\")\n",
    "\n",
    "    def display_balance(self):\n",
    "        # Method to display the current balance\n",
    "        print(f\"Current balance: ${self.balance}\")\n",
    "\n",
    "account = bankaccount(account_number=\"12345678\", account_holder=\"John Doe\", balance=500)\n",
    "\n",
    "account.display_balance()\n",
    "\n",
    "account.deposit(200)\n",
    "\n",
    "account.withdraw(100)\n",
    "\n",
    "account.display_balance()\n",
    "\n",
    "account.withdraw(700)\n",
    "\n",
    "\n",
    "         \n",
    "\n",
    "\n",
    "\n"
   ]
  },
  {
   "cell_type": "markdown",
   "metadata": {},
   "source": [
    " A class Book with: \n",
    "● Attributes: title, author, price. \n",
    "● Methods: \n",
    "○ apply_discount(discount) to reduce the price by a \n",
    "given percentage. \n",
    "○ display_details() to print the book details. \n"
   ]
  },
  {
   "cell_type": "code",
   "execution_count": null,
   "metadata": {},
   "outputs": [],
   "source": [
    "class Book:\n",
    "    def __init__(self, title, author, price):\n",
    "        self.title = title\n",
    "        self.author = author\n",
    "        self.price = price\n",
    "\n",
    "    def apply_discount(self, discount):\n",
    "        if 0 <= discount <= 100:\n",
    "            discount_amount = (self.price * discount) / 100\n",
    "            self.price -= discount_amount\n",
    "            print(f\"Discount applied! New price: ${self.price:.2f}\")\n",
    "        else:\n",
    "            print(\"Error: Discount must be between 0 and 100.\")\n",
    "\n",
    "    def display_details(self):\n",
    "        print(f\"Title: {self.title}\")\n",
    "        print(f\"Author: {self.author}\")\n",
    "        print(f\"Price: ${self.price:.2f}\")\n",
    "\n",
    "book1 = Book(\"Python Programming\", \"John Smith\", 29.99)\n",
    "\n",
    "# Display initial book details\n",
    "book1.display_details()\n",
    "\n",
    "# Apply a 10% discount\n",
    "book1.apply_discount(10)\n",
    "\n",
    "# Display the updated book details\n",
    "book1.display_details()\n"
   ]
  },
  {
   "cell_type": "markdown",
   "metadata": {},
   "source": [
    "Create a class Calculator with: \n",
    "○ A method add(a, b) to add two numbers. \n",
    "○ A method subtract(a, b) to subtract two numbers. \n",
    "○ A method multiply(a, b) to multiply two numbers. \n",
    "○ A method divide(a, b) to divide two numbers (handle division by zero gracefully). \n"
   ]
  },
  {
   "cell_type": "code",
   "execution_count": null,
   "metadata": {},
   "outputs": [],
   "source": [
    "class Calculator:\n",
    "    def add(self, a, b):\n",
    "       \n",
    "        return a+ b\n",
    "\n",
    "    def subtract(self, a, b):\n",
    "        return a - b\n",
    "\n",
    "    def multiply(self, a, b):\n",
    "        return a * b\n",
    "\n",
    "    def divide(self, a, b):\n",
    "        if b != 0:\n",
    "            return a / b\n",
    "        else:\n",
    "            return \"Cannot divide by zero!\"\n",
    "\n",
    "# Create an object\n",
    "calc = Calculator()\n",
    "\n",
    "print(\"Addition:\", calc.add(10, 5))\n",
    "print(\"Subtraction:\", calc.subtract(10, 5))\n",
    "print(\"Multiplication:\", calc.multiply(10, 5))\n",
    "print(\"Division:\", calc.divide(10, 5))\n"
   ]
  },
  {
   "cell_type": "markdown",
   "metadata": {},
   "source": [
    " Write a class Person with: \n",
    "○ Attributes: name, age, gender. \n",
    "○ Method introduce() to print a message like: \"Hello, my name is [name], I am [age] years old, and I am a [gender].\" ○ Create a subclass Employee that adds: \n",
    "■ Attribute: job_title. \n",
    "■ Override introduce() to include the job title"
   ]
  },
  {
   "cell_type": "code",
   "execution_count": null,
   "metadata": {},
   "outputs": [],
   "source": [
    "class Book:\n",
    "    def __init__(self, title, author, price):\n",
    "        self.title = title\n",
    "        self.author = author\n",
    "        self.price = price\n",
    "\n",
    "    def apply_discount(self, discount):\n",
    "        if 0 <= discount <= 100:\n",
    "            discount_amount = (self.price * discount) / 100\n",
    "            self.price -= discount_amount\n",
    "            print(f\"Discount applied! New price: ${self.price:.2f}\")\n",
    "        else:\n",
    "            print(\"Error: Discount must be between 0 and 100.\")\n",
    "\n",
    "    def display_details(self):\n",
    "        print(f\"Title: {self.title}\")\n",
    "        print(f\"Author: {self.author}\")\n",
    "        print(f\"Price: ${self.price:.2f}\")\n",
    "\n",
    "book1 = Book(\"Python Programming\", \"John Smith\", 29.99)\n",
    "\n",
    "# Display initial book details\n",
    "book1.display_details()\n",
    "\n",
    "# Apply a 10% discount\n",
    "book1.apply_discount(10)\n",
    "\n",
    "# Display the updated book details\n",
    "book1.display_details()\n"
   ]
  }
 ],
 "metadata": {
  "kernelspec": {
   "display_name": "Python 3",
   "language": "python",
   "name": "python3"
  },
  "language_info": {
   "codemirror_mode": {
    "name": "ipython",
    "version": 3
   },
   "file_extension": ".py",
   "mimetype": "text/x-python",
   "name": "python",
   "nbconvert_exporter": "python",
   "pygments_lexer": "ipython3",
   "version": "3.13.0"
  }
 },
 "nbformat": 4,
 "nbformat_minor": 2
}
