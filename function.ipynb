{
 "cells": [
  {
   "cell_type": "markdown",
   "metadata": {},
   "source": [
    "Factorial Function: Write a function factorial(n) that returns the factorial of a number using a for loop. \n"
   ]
  },
  {
   "cell_type": "code",
   "execution_count": 2,
   "metadata": {},
   "outputs": [
    {
     "name": "stdout",
     "output_type": "stream",
     "text": [
      "The factorial of 10 is: 3628800\n"
     ]
    }
   ],
   "source": [
    "def factorial(n):\n",
    "    result = 1\n",
    "    for i in range(1, n + 1):\n",
    "        result *= i  \n",
    "    return result\n",
    "num = int(input(\"Enter a number to calculate its factorial: \"))\n",
    "print(f\"The factorial of {num} is: {factorial(num)}\")\n"
   ]
  },
  {
   "cell_type": "markdown",
   "metadata": {},
   "source": [
    "Prime Check Function: Create a function is_prime(n) to check whether a number is prime. \n"
   ]
  },
  {
   "cell_type": "code",
   "execution_count": 3,
   "metadata": {},
   "outputs": [
    {
     "name": "stdout",
     "output_type": "stream",
     "text": [
      "3 is not a prime number.\n"
     ]
    }
   ],
   "source": [
    "def is_prime(n):\n",
    "   if n <= 1:\n",
    "        return False\n",
    "        for i in range(2, int(n**0.5) + 1):\n",
    "         if n % i == 0:\n",
    "            return False  # If divisible, it's not a prime number\n",
    "    \n",
    "        return True  # If no divisors were found, it's a prime number\n",
    "\n",
    "num = int(input(\"Enter a number to check if it's prime: \"))\n",
    "if is_prime(num):\n",
    "    print(f\"{num} is a prime number.\")\n",
    "else:\n",
    "    print(f\"{num} is not a prime number.\")\n"
   ]
  },
  {
   "cell_type": "markdown",
   "metadata": {},
   "source": [
    "Find Maximum in List:Write a function find_max(lst) to find and return the maximum value in a list. \n"
   ]
  },
  {
   "cell_type": "code",
   "execution_count": 25,
   "metadata": {},
   "outputs": [
    {
     "name": "stdout",
     "output_type": "stream",
     "text": [
      "The maximum value in the list is: 60\n"
     ]
    }
   ],
   "source": [
    "def find_max(list):\n",
    "    max_value = list[0]\n",
    "    for num in list:\n",
    "        if num>max_value:\n",
    "            max_value = num\n",
    "    return max_value\n",
    "numbers = [1,8,9,50,60]\n",
    "print(f\"The maximum value in the list is: {find_max(numbers)}\")\n",
    "\n",
    "\n"
   ]
  },
  {
   "cell_type": "markdown",
   "metadata": {},
   "source": [
    "Write a function palindrome_check(string) that returns True if the given string is a palindrome, otherwise False. \n"
   ]
  },
  {
   "cell_type": "code",
   "execution_count": null,
   "metadata": {},
   "outputs": [],
   "source": [
    "def palindrome_check(string):\n",
    "    cleaned_string = ''.join(string.split()).lower()\n",
    "    return cleaned_string == cleaned_string[::-1]\n",
    "\n",
    "# Example usage:\n",
    "input_string = input(\"Enter a string to check if it's a palindrome: \")\n",
    "if palindrome_check(input_string):\n",
    "    print(f\"'{input_string}' is a palindrome.\")\n",
    "else:\n",
    "    print(f\"'{input_string}' is not a palindrome.\")\n"
   ]
  },
  {
   "cell_type": "markdown",
   "metadata": {},
   "source": [
    "Write a function sum_of_squares(n) that returns the sum of squares of the first n natural numbers. \n"
   ]
  },
  {
   "cell_type": "code",
   "execution_count": null,
   "metadata": {},
   "outputs": [],
   "source": [
    "def sum_of_squares(n):\n",
    "    total = 0\n",
    "    \n",
    "    for i in range(1, n + 1):\n",
    "        total += i**2\n",
    "    return total\n",
    "\n",
    "# Example usage:\n",
    "n = int(input(\"Enter a number to calculate the sum of squares: \"))\n",
    "print(f\"The sum of squares of the first {n} natural numbers is: {sum_of_squares(n)}\")\n"
   ]
  }
 ],
 "metadata": {
  "kernelspec": {
   "display_name": "Python 3",
   "language": "python",
   "name": "python3"
  },
  "language_info": {
   "codemirror_mode": {
    "name": "ipython",
    "version": 3
   },
   "file_extension": ".py",
   "mimetype": "text/x-python",
   "name": "python",
   "nbconvert_exporter": "python",
   "pygments_lexer": "ipython3",
   "version": "3.13.0"
  }
 },
 "nbformat": 4,
 "nbformat_minor": 2
}
